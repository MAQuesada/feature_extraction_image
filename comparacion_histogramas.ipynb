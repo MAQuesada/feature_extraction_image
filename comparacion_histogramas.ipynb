{
 "cells": [
  {
   "attachments": {},
   "cell_type": "markdown",
   "metadata": {},
   "source": [
    "## Correlacion entre sus histogramas"
   ]
  },
  {
   "cell_type": "code",
   "execution_count": 17,
   "metadata": {},
   "outputs": [
    {
     "name": "stdout",
     "output_type": "stream",
     "text": [
      "Porcentaje de similitud: 0.8726894452138516 %\n"
     ]
    }
   ],
   "source": [
    "import cv2\n",
    "import numpy as np\n",
    "\n",
    "# Leer las imágenes\n",
    "img1 = cv2.imread('1173878dup/18814714.jpg')\n",
    "img2 = cv2.imread('1173878dup/18814715.jpg')\n",
    "\n",
    "# Calcular los histogramas de las imágenes\n",
    "hist1 = cv2.calcHist([img1],[0],None,[300],[0,256])\n",
    "hist2 = cv2.calcHist([img2],[0],None,[300],[0,256])\n",
    "\n",
    "# Normalizar los histogramas (esto es importante para compararlos)\n",
    "cv2.normalize(hist1, hist1)\n",
    "cv2.normalize(hist2, hist2)\n",
    "\n",
    "# Calcular la correlación entre los histogramas\n",
    "correlation = cv2.compareHist(hist1, hist2, cv2.HISTCMP_CORREL)\n",
    "\n",
    "# La correlación va de -1 a 1, siendo 1 una correlación perfecta\n",
    "# Podemos interpretar la correlación como un porcentaje de similitud\n",
    "similarity_percentage = (correlation + 1) / 2 * 100\n",
    "\n",
    "print(f'Porcentaje de similitud: {correlation} %')"
   ]
  },
  {
   "attachments": {},
   "cell_type": "markdown",
   "metadata": {},
   "source": [
    "## Distancia euclidiana entre sus histogramas para comparar una imagen con dos imagenes"
   ]
  },
  {
   "cell_type": "code",
   "execution_count": 25,
   "metadata": {},
   "outputs": [
    {
     "name": "stdout",
     "output_type": "stream",
     "text": [
      "distancia [7629.482]\n",
      "distancia [5439.5874]\n"
     ]
    }
   ],
   "source": [
    "import cv2\n",
    "\n",
    "img1 = cv2.imread('1173878dup/18814716.jpg')\n",
    "img2 = cv2.imread('1173878dup/18814714.jpg')\n",
    "img3 = cv2.imread('1173878dup/18814718.jpg')\n",
    "\n",
    "gray1 = cv2.cvtColor(img1, cv2.COLOR_RGB2GRAY)\n",
    "gray2 = cv2.cvtColor(img2, cv2.COLOR_RGB2GRAY)\n",
    "gray3 = cv2.cvtColor(img3, cv2.COLOR_RGB2GRAY)\n",
    "\n",
    "# Calcular los histogramas de las imágenes\n",
    "hist1 = cv2.calcHist([img1], [0], None, [256], [0, 256])\n",
    "hist2 = cv2.calcHist([img2], [0], None, [256], [0, 256])\n",
    "hist3 = cv2.calcHist([img3], [0], None, [256], [0, 256])\n",
    "\n",
    "# print(len(hist1))\n",
    "c1, c2, i = 0, 0, 0\n",
    "while i < len(hist1) and i < len(hist2):\n",
    "    c1 += (hist1[i] - hist2[i])**2\n",
    "    i += 1\n",
    "c1 = c1**0.5\n",
    "\n",
    "i = 0\n",
    "while i < len(hist1) and i < len(hist3):\n",
    "    c2 += (hist1[i] - hist3[i])**2\n",
    "    i += 1\n",
    "c2 = c2**0.5\n",
    "\n",
    "print('distancia', c1)\n",
    "print('distancia', c2)\n"
   ]
  }
 ],
 "metadata": {
  "kernelspec": {
   "display_name": "Python 3",
   "language": "python",
   "name": "python3"
  },
  "language_info": {
   "codemirror_mode": {
    "name": "ipython",
    "version": 3
   },
   "file_extension": ".py",
   "mimetype": "text/x-python",
   "name": "python",
   "nbconvert_exporter": "python",
   "pygments_lexer": "ipython3",
   "version": "3.10.4"
  },
  "orig_nbformat": 4
 },
 "nbformat": 4,
 "nbformat_minor": 2
}
