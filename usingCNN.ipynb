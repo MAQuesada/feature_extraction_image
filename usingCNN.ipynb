{
 "cells": [
  {
   "attachments": {},
   "cell_type": "markdown",
   "metadata": {},
   "source": [
    "## Usando la CNN VGG16  para extrar caracteristicas\n",
    "Despues utilizaremos podremos usar esas caracteristicas, por ejemplo para formar clusters que representen posibles agrupaciones entre las imagenes."
   ]
  },
  {
   "cell_type": "code",
   "execution_count": 4,
   "metadata": {},
   "outputs": [
    {
     "name": "stdout",
     "output_type": "stream",
     "text": [
      "['1173879\\\\18814739.jpg', '1173879\\\\18814740.jpg', '1173879\\\\18814741.jpg', '1173879\\\\18814742.jpg', '1173879\\\\18814743.jpg', '1173879\\\\18814747.jpg', '1173879\\\\18814748.jpg', '1173879\\\\18814749.jpg', '1173879\\\\18814750.jpg', '1173879\\\\18814752.jpg', '1173879\\\\18814753.jpg', '1173879\\\\18814754.jpg', '1173879\\\\18814755.jpg', '1173879\\\\18814756.jpg', '1173879\\\\18814757.jpg', '1173879\\\\18814759.jpg']\n"
     ]
    }
   ],
   "source": [
    "import os\n",
    "\n",
    "# ruta de la carpeta que quieres explorar\n",
    "folder_path = '1173879'  \n",
    "image_files = []\n",
    "\n",
    "# Recorre todos los archivos de la carpeta y sus subcarpetas\n",
    "for root, dirs, files in os.walk(folder_path):\n",
    "    for file in files:\n",
    "        # Agrega el path completo del archivo a la lista de archivos\n",
    "        file_path = os.path.join(root, file)\n",
    "        image_files.append(file_path)\n",
    "\n",
    "# Imprime la lista de archivos\n",
    "print(image_files)"
   ]
  },
  {
   "cell_type": "code",
   "execution_count": 5,
   "metadata": {},
   "outputs": [
    {
     "name": "stdout",
     "output_type": "stream",
     "text": [
      "1/1 [==============================] - 1s 784ms/step\n",
      "1/1 [==============================] - 1s 597ms/step\n",
      "1/1 [==============================] - 1s 631ms/step\n",
      "1/1 [==============================] - 3s 3s/step\n",
      "1/1 [==============================] - 2s 2s/step\n",
      "1/1 [==============================] - 1s 1s/step\n",
      "1/1 [==============================] - 1s 1s/step\n",
      "1/1 [==============================] - 1s 1s/step\n",
      "1/1 [==============================] - 1s 1s/step\n",
      "1/1 [==============================] - 1s 1s/step\n",
      "1/1 [==============================] - 1s 1s/step\n",
      "1/1 [==============================] - 1s 1s/step\n",
      "1/1 [==============================] - 1s 1s/step\n",
      "1/1 [==============================] - 1s 1s/step\n",
      "1/1 [==============================] - 1s 1s/step\n",
      "1/1 [==============================] - 1s 1s/step\n",
      "(1, 512)\n"
     ]
    }
   ],
   "source": [
    "from keras.applications.vgg16 import VGG16\n",
    "from keras.applications.vgg16 import preprocess_input\n",
    "from PIL import Image\n",
    "from sklearn.cluster import KMeans\n",
    "import numpy as np\n",
    "\n",
    "# Cargamos el modelo VGG16\n",
    "model = VGG16(weights='imagenet', pooling='avg', include_top=False)\n",
    "\n",
    "\n",
    "# Preprocesamos las imágenes y extraemos las características\n",
    "features = []\n",
    "for image_file in image_files:\n",
    "    image = Image.open(image_file)\n",
    "    # image = image.resize((250,250))  # Aseguramos que todas las imágenes tengan el mismo tamaño\n",
    "    image = np.array(image)  # Convertimos la imagen en un array de numpy\n",
    "    image = np.expand_dims(image, axis=0)\n",
    "    image = preprocess_input(image)\n",
    "    feature = model.predict(image)\n",
    "    features.append(feature.flatten())\n",
    "print(feature.shape)\n",
    "\n",
    "# Convertimos la lista de características en un array de numpy y listas para usar\n",
    "features = np.array(features)\n"
   ]
  }
 ],
 "metadata": {
  "kernelspec": {
   "display_name": "Python 3",
   "language": "python",
   "name": "python3"
  },
  "language_info": {
   "codemirror_mode": {
    "name": "ipython",
    "version": 3
   },
   "file_extension": ".py",
   "mimetype": "text/x-python",
   "name": "python",
   "nbconvert_exporter": "python",
   "pygments_lexer": "ipython3",
   "version": "3.10.4"
  },
  "orig_nbformat": 4
 },
 "nbformat": 4,
 "nbformat_minor": 2
}
